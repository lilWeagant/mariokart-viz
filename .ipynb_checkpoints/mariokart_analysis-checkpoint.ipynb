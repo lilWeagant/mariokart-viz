{
 "cells": [
  {
   "cell_type": "code",
   "execution_count": 1,
   "metadata": {},
   "outputs": [],
   "source": [
    "import numpy as np\n",
    "import pandas as pd\n",
    "import matplotlib.pyplot as plt"
   ]
  },
  {
   "cell_type": "code",
   "execution_count": 2,
   "metadata": {},
   "outputs": [],
   "source": [
    "karts = pd.read_csv(\"bodies.csv\")\n",
    "tires = pd.read_csv(\"tires.csv\")\n",
    "characters = pd.read_csv(\"characters.csv\")\n",
    "gliders = pd.read_csv(\"gliders.csv\")"
   ]
  },
  {
   "cell_type": "code",
   "execution_count": 3,
   "metadata": {},
   "outputs": [],
   "source": [
    "karts = karts.rename(columns={\"Vehicle\":\"kart_name\", \"Speed\":\"speed\", \"Acceleration\":\"acceleration\", \"Weight\":\"weight\", \"Handling\":\"handling\", \"Traction\":\"traction\", \"Mini Turbo\":\"miniturbo\"})"
   ]
  },
  {
   "cell_type": "code",
   "execution_count": null,
   "metadata": {},
   "outputs": [],
   "source": [
    "kart_class_series = pd.Series([\"kart\", \"kart\", \"kart\", \"kart\", \"kart\", \"kart\", \"kart\", \"kart\", \"kart\", \"kart\", \"kart\", \"kart\", \"kart\", \"kart\", \"kart\", \"kart\", \"kart\", \"kart\", \"kart\", \"kart\", \"kart\", \"kart\", \"kart\", \"standard_bike\", \"sport_bike\", \"sport_bike\", \"standard_bike\", \"standard_bike\", \"standard_bike\", \"standard_bike\", \"sport_bike\", \"sport_bike\", \"sport_bike\", \"standard_bike\", \"atv\", \"atv\", \"atv\", \"atv\", \"atv\", \"atv\"])"
   ]
  },
  {
   "cell_type": "code",
   "execution_count": null,
   "metadata": {},
   "outputs": [],
   "source": [
    "karts = karts.assign(kart_class=kart_class_series)\n",
    "karts = karts.assign(speed_water = karts[\"speed\"])\n",
    "karts = karts.assign(speed_air = karts[\"speed\"])\n",
    "karts = karts.assign(speed_ground = karts[\"speed\"])\n",
    "karts = karts.assign(handling_water = karts[\"handling\"])\n",
    "karts = karts.assign(handling_air = karts[\"handling\"])\n",
    "karts = karts.assign(handling_ground = karts[\"handling\"])"
   ]
  },
  {
   "cell_type": "code",
   "execution_count": 4,
   "metadata": {},
   "outputs": [
    {
     "data": {
      "text/plain": [
       "Index(['Body', 'Speed', 'Speed (Water)', 'Speed (Air)', 'Speed (Ground)',\n",
       "       'Acceleration', 'Weight', 'Handling', 'Handling (Water)',\n",
       "       'Handling (Air)', 'Handling(Ground)', 'Traction', 'Mini Turbo'],\n",
       "      dtype='object')"
      ]
     },
     "execution_count": 4,
     "metadata": {},
     "output_type": "execute_result"
    }
   ],
   "source": [
    "tires.columns"
   ]
  },
  {
   "cell_type": "code",
   "execution_count": 5,
   "metadata": {},
   "outputs": [],
   "source": [
    "tires = tires.rename(columns={\"Body\":\"tire_name\", \"Speed\":\"speed\", \"Speed (Water)\":\"speed_water\", \"Speed (Air)\":\"speed_air\", \"Speed (Ground)\":\"speed_ground\", \"Acceleration\":\"acceleration\", \"Weight\":\"weight\", \"Handling\":\"handling\", \"Handling (Water)\":\"handling_water\", \"Handling (Air)\":\"handling_air\", \"Handling(Ground)\":\"handling_ground\", \"Traction\":\"traction\", \"Mini Turbo\":\"miniturbo\"})"
   ]
  },
  {
   "cell_type": "code",
   "execution_count": null,
   "metadata": {},
   "outputs": [],
   "source": []
  }
 ],
 "metadata": {
  "kernelspec": {
   "display_name": "Python 3",
   "language": "python",
   "name": "python3"
  },
  "language_info": {
   "codemirror_mode": {
    "name": "ipython",
    "version": 3
   },
   "file_extension": ".py",
   "mimetype": "text/x-python",
   "name": "python",
   "nbconvert_exporter": "python",
   "pygments_lexer": "ipython3",
   "version": "3.7.0"
  }
 },
 "nbformat": 4,
 "nbformat_minor": 4
}
